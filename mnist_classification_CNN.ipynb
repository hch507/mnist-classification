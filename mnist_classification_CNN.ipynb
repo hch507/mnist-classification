{
  "nbformat": 4,
  "nbformat_minor": 0,
  "metadata": {
    "colab": {
      "name": "mnist_classification_CNN.ipynb",
      "provenance": [],
      "authorship_tag": "ABX9TyPjt16iGDUW0pTA7vO0UWuS",
      "include_colab_link": true
    },
    "kernelspec": {
      "name": "python3",
      "display_name": "Python 3"
    },
    "language_info": {
      "name": "python"
    },
    "accelerator": "GPU",
    "gpuClass": "standard"
  },
  "cells": [
    {
      "cell_type": "markdown",
      "metadata": {
        "id": "view-in-github",
        "colab_type": "text"
      },
      "source": [
        "<a href=\"https://colab.research.google.com/github/hch507/mnist-classification/blob/main/mnist_classification_CNN.ipynb\" target=\"_parent\"><img src=\"https://colab.research.google.com/assets/colab-badge.svg\" alt=\"Open In Colab\"/></a>"
      ]
    },
    {
      "cell_type": "code",
      "execution_count": 1,
      "metadata": {
        "id": "5R_vW_A1dxlu"
      },
      "outputs": [],
      "source": [
        "import tensorflow as tf\n",
        "import matplotlib.pyplot as plt "
      ]
    },
    {
      "cell_type": "code",
      "source": [
        "mnist = tf.keras.datasets.mnist"
      ],
      "metadata": {
        "id": "CKh51qy6wxp6"
      },
      "execution_count": 2,
      "outputs": []
    },
    {
      "cell_type": "code",
      "source": [
        "(x_train, y_train),(x_test, y_test) = mnist.load_data()\n",
        "x_train = x_train.reshape((-1, 28, 28, 1))\n",
        "x_test = x_test.reshape((-1, 28, 28, 1))\n"
      ],
      "metadata": {
        "colab": {
          "base_uri": "https://localhost:8080/"
        },
        "id": "rgj15n73w-pQ",
        "outputId": "36b45fc7-d4a5-4d98-e6d1-24108370cb86"
      },
      "execution_count": 3,
      "outputs": [
        {
          "output_type": "stream",
          "name": "stdout",
          "text": [
            "Downloading data from https://storage.googleapis.com/tensorflow/tf-keras-datasets/mnist.npz\n",
            "11493376/11490434 [==============================] - 0s 0us/step\n",
            "11501568/11490434 [==============================] - 0s 0us/step\n"
          ]
        }
      ]
    },
    {
      "cell_type": "code",
      "source": [
        "print(len(x_train))\n",
        "print(x_train.shape)\n",
        "print(len(y_train))\n",
        "print(y_train.shape)\n",
        "print(len(x_test))\n",
        "print(x_test.shape)\n",
        "print(len(y_test))\n",
        "print(y_test.shape)"
      ],
      "metadata": {
        "colab": {
          "base_uri": "https://localhost:8080/"
        },
        "id": "LfRKFqUBxDV5",
        "outputId": "be929dac-89cb-478e-81e7-f0755c8e5170"
      },
      "execution_count": 4,
      "outputs": [
        {
          "output_type": "stream",
          "name": "stdout",
          "text": [
            "60000\n",
            "(60000, 28, 28, 1)\n",
            "60000\n",
            "(60000,)\n",
            "10000\n",
            "(10000, 28, 28, 1)\n",
            "10000\n",
            "(10000,)\n"
          ]
        }
      ]
    },
    {
      "cell_type": "code",
      "source": [
        "plt.imshow(x_train[0,:,:,0])"
      ],
      "metadata": {
        "colab": {
          "base_uri": "https://localhost:8080/",
          "height": 283
        },
        "id": "gc4buPVhxRso",
        "outputId": "a1c61b88-e842-490d-9656-d8c841ad8f79"
      },
      "execution_count": 5,
      "outputs": [
        {
          "output_type": "execute_result",
          "data": {
            "text/plain": [
              "<matplotlib.image.AxesImage at 0x7f30a3ee7110>"
            ]
          },
          "metadata": {},
          "execution_count": 5
        },
        {
          "output_type": "display_data",
          "data": {
            "text/plain": [
              "<Figure size 432x288 with 1 Axes>"
            ],
            "image/png": "[encoded data removed]"
          },
          "metadata": {
            "needs_background": "light"
          }
        }
      ]
    },
    {
      "cell_type": "code",
      "source": [
        "x_train, x_test = x_train / 255.0, x_test / 255.0"
      ],
      "metadata": {
        "id": "5lnpclMJx1Gs"
      },
      "execution_count": 6,
      "outputs": []
    },
    {
      "cell_type": "code",
      "source": [
        "model = tf.keras.models.Sequential()\n",
        "model.add(tf.keras.layers.Conv2D(64, (3, 3), activation='relu', input_shape=(28, 28, 1)))\n",
        "model.add(tf.keras.layers.Conv2D(128,(3,3), activation = 'relu'))\n",
        "model.add(tf.keras.layers.MaxPooling2D((2, 2)))\n",
        "model.add(tf.keras.layers.Conv2D(128,(3,3), activation = 'relu'))\n",
        "\n",
        "model.add(tf.keras.layers.Flatten())\n",
        "model.add(tf.keras.layers.Dense(128, activation=tf.nn.relu))\n",
        "model.add(tf.keras.layers.Dense(10, activation=tf.nn.softmax))\n",
        "model.summary()"
      ],
      "metadata": {
        "colab": {
          "base_uri": "https://localhost:8080/"
        },
        "id": "aQfV2K2ezVfh",
        "outputId": "0ef68ed2-2092-4335-f0d8-7858cb299f07"
      },
      "execution_count": 26,
      "outputs": [
        {
          "output_type": "stream",
          "name": "stdout",
          "text": [
            "Model: \"sequential_1\"\n",
            "_________________________________________________________________\n",
            " Layer (type)                Output Shape              Param #   \n",
            "=================================================================\n",
            " conv2d_3 (Conv2D)           (None, 26, 26, 64)        640       \n",
            "                                                                 \n",
            " conv2d_4 (Conv2D)           (None, 24, 24, 128)       73856     \n",
            "                                                                 \n",
            " max_pooling2d_1 (MaxPooling  (None, 12, 12, 128)      0         \n",
            " 2D)                                                             \n",
            "                                                                 \n",
            " conv2d_5 (Conv2D)           (None, 10, 10, 128)       147584    \n",
            "                                                                 \n",
            " flatten_1 (Flatten)         (None, 12800)             0         \n",
            "                                                                 \n",
            " dense_2 (Dense)             (None, 128)               1638528   \n",
            "                                                                 \n",
            " dense_3 (Dense)             (None, 10)                1290      \n",
            "                                                                 \n",
            "=================================================================\n",
            "Total params: 1,861,898\n",
            "Trainable params: 1,861,898\n",
            "Non-trainable params: 0\n",
            "_________________________________________________________________\n"
          ]
        }
      ]
    },
    {
      "cell_type": "code",
      "source": [
        "model.compile(optimizer='adam',\n",
        "              loss='sparse_categorical_crossentropy',\n",
        "              metrics=['accuracy'])"
      ],
      "metadata": {
        "id": "2t7Qlj11zbj4"
      },
      "execution_count": 27,
      "outputs": []
    },
    {
      "cell_type": "code",
      "source": [
        "model.fit(x_train, y_train,\n",
        "          epochs=10,\n",
        "          validation_split = 0.3)"
      ],
      "metadata": {
        "colab": {
          "base_uri": "https://localhost:8080/"
        },
        "id": "yGTQiuM-27K_",
        "outputId": "68e54196-54c6-428b-daff-e932e50e6e68"
      },
      "execution_count": 28,
      "outputs": [
        {
          "output_type": "stream",
          "name": "stdout",
          "text": [
            "Epoch 1/10\n",
            "1313/1313 [==============================] - 11s 8ms/step - loss: 0.1143 - accuracy: 0.9645 - val_loss: 0.0633 - val_accuracy: 0.9817\n",
            "Epoch 2/10\n",
            "1313/1313 [==============================] - 10s 8ms/step - loss: 0.0378 - accuracy: 0.9886 - val_loss: 0.0448 - val_accuracy: 0.9867\n",
            "Epoch 3/10\n",
            "1313/1313 [==============================] - 9s 7ms/step - loss: 0.0249 - accuracy: 0.9920 - val_loss: 0.0524 - val_accuracy: 0.9852\n",
            "Epoch 4/10\n",
            "1313/1313 [==============================] - 10s 8ms/step - loss: 0.0180 - accuracy: 0.9935 - val_loss: 0.0428 - val_accuracy: 0.9891\n",
            "Epoch 5/10\n",
            "1313/1313 [==============================] - 10s 8ms/step - loss: 0.0134 - accuracy: 0.9955 - val_loss: 0.0448 - val_accuracy: 0.9884\n",
            "Epoch 6/10\n",
            "1313/1313 [==============================] - 9s 7ms/step - loss: 0.0122 - accuracy: 0.9962 - val_loss: 0.0459 - val_accuracy: 0.9881\n",
            "Epoch 7/10\n",
            "1313/1313 [==============================] - 10s 8ms/step - loss: 0.0093 - accuracy: 0.9974 - val_loss: 0.0520 - val_accuracy: 0.9877\n",
            "Epoch 8/10\n",
            "1313/1313 [==============================] - 10s 8ms/step - loss: 0.0082 - accuracy: 0.9973 - val_loss: 0.0433 - val_accuracy: 0.9901\n",
            "Epoch 9/10\n",
            "1313/1313 [==============================] - 10s 8ms/step - loss: 0.0053 - accuracy: 0.9984 - val_loss: 0.0514 - val_accuracy: 0.9900\n",
            "Epoch 10/10\n",
            "1313/1313 [==============================] - 10s 8ms/step - loss: 0.0060 - accuracy: 0.9980 - val_loss: 0.0673 - val_accuracy: 0.9865\n"
          ]
        },
        {
          "output_type": "execute_result",
          "data": {
            "text/plain": [
              "<keras.callbacks.History at 0x7f2f419cdf10>"
            ]
          },
          "metadata": {},
          "execution_count": 28
        }
      ]
    },
    {
      "cell_type": "code",
      "source": [
        "model.evaluate(x_test, y_test)"
      ],
      "metadata": {
        "colab": {
          "base_uri": "https://localhost:8080/"
        },
        "id": "l3WG75dN5CYz",
        "outputId": "ac6b000e-9eec-47fb-a502-65d616596726"
      },
      "execution_count": 29,
      "outputs": [
        {
          "output_type": "stream",
          "name": "stdout",
          "text": [
            "313/313 [==============================] - 1s 3ms/step - loss: 0.0613 - accuracy: 0.9879\n"
          ]
        },
        {
          "output_type": "execute_result",
          "data": {
            "text/plain": [
              "[0.06125611066818237, 0.9879000186920166]"
            ]
          },
          "metadata": {},
          "execution_count": 29
        }
      ]
    },
    {
      "cell_type": "code",
      "source": [
        "from google.colab import drive\n",
        "import cv2\n",
        "import numpy as np\n",
        "drive.mount('/content/drive')\n",
        "image = '/content/drive/MyDrive/Colab Notebooks/thrid.jpeg'\n",
        "test_image = cv2.imread(image, cv2.IMREAD_COLOR)\n",
        "\n",
        "plt.imshow(test_image)"
      ],
      "metadata": {
        "colab": {
          "base_uri": "https://localhost:8080/",
          "height": 306
        },
        "id": "kkFiKhP38Zjt",
        "outputId": "6789ae4c-6d4c-4ec2-8d9f-d911e4a39ef5"
      },
      "execution_count": 33,
      "outputs": [
        {
          "output_type": "stream",
          "name": "stdout",
          "text": [
            "Drive already mounted at /content/drive; to attempt to forcibly remount, call drive.mount(\"/content/drive\", force_remount=True).\n"
          ]
        },
        {
          "output_type": "execute_result",
          "data": {
            "text/plain": [
              "<matplotlib.image.AxesImage at 0x7f2f40029750>"
            ]
          },
          "metadata": {},
          "execution_count": 33
        },
        {
          "output_type": "display_data",
          "data": {
            "text/plain": [
              "<Figure size 432x288 with 1 Axes>"
            ],
            "image/png": "[encoded data removed]"
          },
          "metadata": {
            "needs_background": "light"
          }
        }
      ]
    },
    {
      "cell_type": "code",
      "source": [
        "test_image = cv2.cvtColor(test_image, cv2.COLOR_BGR2GRAY)\n",
        "\n",
        "test_image = cv2.resize(test_image, (28,28),interpolation=cv2.INTER_AREA)\n",
        "test_image = test_image / 255.0\n",
        "\n",
        "plt.imshow(test_image)"
      ],
      "metadata": {
        "colab": {
          "base_uri": "https://localhost:8080/",
          "height": 283
        },
        "id": "NNw-ST4G5OxS",
        "outputId": "367a911e-566b-4cdf-8c8f-68a0c8810f2a"
      },
      "execution_count": 34,
      "outputs": [
        {
          "output_type": "execute_result",
          "data": {
            "text/plain": [
              "<matplotlib.image.AxesImage at 0x7f2f26f7d390>"
            ]
          },
          "metadata": {},
          "execution_count": 34
        },
        {
          "output_type": "display_data",
          "data": {
            "text/plain": [
              "<Figure size 432x288 with 1 Axes>"
            ],
            "image/png": "[encoded data removed]"
          },
          "metadata": {
            "needs_background": "light"
          }
        }
      ]
    },
    {
      "cell_type": "code",
      "source": [
        "test_image = test_image.reshape((1, 28, 28, 1))\n",
        "pred = model.predict(test_image)\n"
      ],
      "metadata": {
        "id": "TUtYqiRa6Dtk"
      },
      "execution_count": 35,
      "outputs": []
    },
    {
      "cell_type": "code",
      "source": [
        "pred"
      ],
      "metadata": {
        "colab": {
          "base_uri": "https://localhost:8080/"
        },
        "id": "dHF4_HQc9Zzq",
        "outputId": "7b62df51-8792-49a9-8f03-0f0596fb3385"
      },
      "execution_count": 36,
      "outputs": [
        {
          "output_type": "execute_result",
          "data": {
            "text/plain": [
              "array([[0.11777699, 0.15600762, 0.08173499, 0.08277969, 0.07837152,\n",
              "        0.0852251 , 0.08417349, 0.13434753, 0.08143025, 0.09815281]],\n",
              "      dtype=float32)"
            ]
          },
          "metadata": {},
          "execution_count": 36
        }
      ]
    },
    {
      "cell_type": "code",
      "source": [
        "np.argmax(pred)"
      ],
      "metadata": {
        "colab": {
          "base_uri": "https://localhost:8080/"
        },
        "id": "c_oVotUr9dPv",
        "outputId": "5d5cdaec-d807-48b4-cc97-f8a0c5961dfc"
      },
      "execution_count": 37,
      "outputs": [
        {
          "output_type": "execute_result",
          "data": {
            "text/plain": [
              "1"
            ]
          },
          "metadata": {},
          "execution_count": 37
        }
      ]
    },
    {
      "cell_type": "code",
      "source": [
        ""
      ],
      "metadata": {
        "id": "vOdGwath_Vr7"
      },
      "execution_count": null,
      "outputs": []
    }
  ]
}